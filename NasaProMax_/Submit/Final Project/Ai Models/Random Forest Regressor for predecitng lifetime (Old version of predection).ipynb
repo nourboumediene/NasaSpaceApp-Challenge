{
 "cells": [
  {
   "cell_type": "markdown",
   "metadata": {},
   "source": [
    "# Loading Libraries & Data"
   ]
  },
  {
   "cell_type": "code",
   "execution_count": 1,
   "metadata": {},
   "outputs": [
    {
     "data": {
      "text/html": [
       "<div>\n",
       "<style scoped>\n",
       "    .dataframe tbody tr th:only-of-type {\n",
       "        vertical-align: middle;\n",
       "    }\n",
       "\n",
       "    .dataframe tbody tr th {\n",
       "        vertical-align: top;\n",
       "    }\n",
       "\n",
       "    .dataframe thead th {\n",
       "        text-align: right;\n",
       "    }\n",
       "</style>\n",
       "<table border=\"1\" class=\"dataframe\">\n",
       "  <thead>\n",
       "    <tr style=\"text-align: right;\">\n",
       "      <th></th>\n",
       "      <th>type</th>\n",
       "      <th>htemp</th>\n",
       "      <th>ltemp</th>\n",
       "      <th>radth</th>\n",
       "      <th>pressure</th>\n",
       "      <th>maxdays</th>\n",
       "    </tr>\n",
       "  </thead>\n",
       "  <tbody>\n",
       "    <tr>\n",
       "      <th>0</th>\n",
       "      <td>Bacteria</td>\n",
       "      <td>64.376746</td>\n",
       "      <td>-45.049532</td>\n",
       "      <td>1689.052418</td>\n",
       "      <td>1.734047</td>\n",
       "      <td>51.166667</td>\n",
       "    </tr>\n",
       "    <tr>\n",
       "      <th>1</th>\n",
       "      <td>Bacteria</td>\n",
       "      <td>26.764212</td>\n",
       "      <td>9.206449</td>\n",
       "      <td>5913.488436</td>\n",
       "      <td>1.099213</td>\n",
       "      <td>51.500000</td>\n",
       "    </tr>\n",
       "    <tr>\n",
       "      <th>2</th>\n",
       "      <td>Bacteria</td>\n",
       "      <td>45.394514</td>\n",
       "      <td>-98.931866</td>\n",
       "      <td>341.913123</td>\n",
       "      <td>5.516176</td>\n",
       "      <td>34.833333</td>\n",
       "    </tr>\n",
       "    <tr>\n",
       "      <th>3</th>\n",
       "      <td>Human</td>\n",
       "      <td>35.060594</td>\n",
       "      <td>-6.713927</td>\n",
       "      <td>6121.223560</td>\n",
       "      <td>10.034559</td>\n",
       "      <td>84.166667</td>\n",
       "    </tr>\n",
       "    <tr>\n",
       "      <th>4</th>\n",
       "      <td>Bacteria</td>\n",
       "      <td>45.851849</td>\n",
       "      <td>-78.102437</td>\n",
       "      <td>1939.395352</td>\n",
       "      <td>7.726826</td>\n",
       "      <td>51.000000</td>\n",
       "    </tr>\n",
       "    <tr>\n",
       "      <th>...</th>\n",
       "      <td>...</td>\n",
       "      <td>...</td>\n",
       "      <td>...</td>\n",
       "      <td>...</td>\n",
       "      <td>...</td>\n",
       "      <td>...</td>\n",
       "    </tr>\n",
       "    <tr>\n",
       "      <th>3995</th>\n",
       "      <td>Bacteria</td>\n",
       "      <td>27.935398</td>\n",
       "      <td>-12.043417</td>\n",
       "      <td>4902.994782</td>\n",
       "      <td>8.556785</td>\n",
       "      <td>67.833333</td>\n",
       "    </tr>\n",
       "    <tr>\n",
       "      <th>3996</th>\n",
       "      <td>Fish</td>\n",
       "      <td>83.666399</td>\n",
       "      <td>-49.042077</td>\n",
       "      <td>6652.860313</td>\n",
       "      <td>8.172271</td>\n",
       "      <td>35.000000</td>\n",
       "    </tr>\n",
       "    <tr>\n",
       "      <th>3997</th>\n",
       "      <td>Human</td>\n",
       "      <td>78.678832</td>\n",
       "      <td>-29.635212</td>\n",
       "      <td>4630.175252</td>\n",
       "      <td>4.193692</td>\n",
       "      <td>34.666667</td>\n",
       "    </tr>\n",
       "    <tr>\n",
       "      <th>3998</th>\n",
       "      <td>Fish</td>\n",
       "      <td>17.180233</td>\n",
       "      <td>-38.777456</td>\n",
       "      <td>3520.911860</td>\n",
       "      <td>10.570668</td>\n",
       "      <td>34.666667</td>\n",
       "    </tr>\n",
       "    <tr>\n",
       "      <th>3999</th>\n",
       "      <td>Fish</td>\n",
       "      <td>80.702561</td>\n",
       "      <td>-37.738729</td>\n",
       "      <td>2841.135648</td>\n",
       "      <td>4.718253</td>\n",
       "      <td>51.333333</td>\n",
       "    </tr>\n",
       "  </tbody>\n",
       "</table>\n",
       "<p>4000 rows × 6 columns</p>\n",
       "</div>"
      ],
      "text/plain": [
       "          type      htemp      ltemp        radth   pressure    maxdays\n",
       "0     Bacteria  64.376746 -45.049532  1689.052418   1.734047  51.166667\n",
       "1     Bacteria  26.764212   9.206449  5913.488436   1.099213  51.500000\n",
       "2     Bacteria  45.394514 -98.931866   341.913123   5.516176  34.833333\n",
       "3        Human  35.060594  -6.713927  6121.223560  10.034559  84.166667\n",
       "4     Bacteria  45.851849 -78.102437  1939.395352   7.726826  51.000000\n",
       "...        ...        ...        ...          ...        ...        ...\n",
       "3995  Bacteria  27.935398 -12.043417  4902.994782   8.556785  67.833333\n",
       "3996      Fish  83.666399 -49.042077  6652.860313   8.172271  35.000000\n",
       "3997     Human  78.678832 -29.635212  4630.175252   4.193692  34.666667\n",
       "3998      Fish  17.180233 -38.777456  3520.911860  10.570668  34.666667\n",
       "3999      Fish  80.702561 -37.738729  2841.135648   4.718253  51.333333\n",
       "\n",
       "[4000 rows x 6 columns]"
      ]
     },
     "execution_count": 1,
     "metadata": {},
     "output_type": "execute_result"
    }
   ],
   "source": [
    "import pandas as pd\n",
    "from sklearn.model_selection import train_test_split\n",
    "from sklearn.ensemble import RandomForestRegressor\n",
    "import numpy as np \n",
    "from sklearn.metrics import mean_squared_error\n",
    "df=pd.read_csv(\"data.csv\")"
   ]
  },
  {
   "cell_type": "markdown",
   "metadata": {},
   "source": [
    "# Preproccessing data"
   ]
  },
  {
   "cell_type": "code",
   "execution_count": 13,
   "metadata": {},
   "outputs": [],
   "source": [
    "df.drop(columns='type',inplace=True)\n",
    "X=df.drop(columns='maxdays')\n",
    "y=df['maxdays']\n",
    "X_train, X_test, y_train, y_test = train_test_split(X, y, test_size=0.3, random_state=42)"
   ]
  },
  {
   "cell_type": "markdown",
   "metadata": {},
   "source": [
    "# Training ML Model"
   ]
  },
  {
   "cell_type": "code",
   "execution_count": 23,
   "metadata": {},
   "outputs": [],
   "source": [
    "clf = RandomForestRegressor(max_depth=2, random_state=0)\n",
    "clf.fit(X_train, y_train)\n",
    "y_pred=clf.predict(X_test)"
   ]
  },
  {
   "cell_type": "code",
   "execution_count": 28,
   "metadata": {},
   "outputs": [
    {
     "name": "stdout",
     "output_type": "stream",
     "text": [
      "\n",
      "RMSE:\n",
      " 16.55\n"
     ]
    }
   ],
   "source": [
    "rmse = float(format(np.sqrt(mean_squared_error(y_test, y_pred)),'.3f'))\n",
    "print(\"\\nRMSE:\\n\",rmse)"
   ]
  },
  {
   "cell_type": "code",
   "execution_count": 46,
   "metadata": {},
   "outputs": [
    {
     "name": "stdout",
     "output_type": "stream",
     "text": [
      "[45.54684772]\n"
     ]
    },
    {
     "name": "stderr",
     "output_type": "stream",
     "text": [
      "c:\\Python39\\lib\\site-packages\\sklearn\\base.py:450: UserWarning: X does not have valid feature names, but RandomForestRegressor was fitted with feature names\n",
      "  warnings.warn(\n"
     ]
    }
   ],
   "source": [
    "yy=clf.predict([[-25,80,3500,15000]])\n",
    "print(yy)"
   ]
  }
 ],
 "metadata": {
  "kernelspec": {
   "display_name": "Python 3.9.4 64-bit",
   "language": "python",
   "name": "python3"
  },
  "language_info": {
   "codemirror_mode": {
    "name": "ipython",
    "version": 3
   },
   "file_extension": ".py",
   "mimetype": "text/x-python",
   "name": "python",
   "nbconvert_exporter": "python",
   "pygments_lexer": "ipython3",
   "version": "3.9.4"
  },
  "orig_nbformat": 4,
  "vscode": {
   "interpreter": {
    "hash": "81794d4967e6c3204c66dcd87b604927b115b27c00565d3d43f05ba2f3a2cb0d"
   }
  }
 },
 "nbformat": 4,
 "nbformat_minor": 2
}
